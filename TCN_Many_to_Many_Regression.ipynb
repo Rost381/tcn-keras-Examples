{
  "nbformat": 4,
  "nbformat_minor": 0,
  "metadata": {
    "colab": {
      "name": "TCN-Many to Many Regression.ipynb",
      "provenance": [],
      "authorship_tag": "ABX9TyP8tvFfgj/dEwyBBk3aJuiE",
      "include_colab_link": true
    },
    "kernelspec": {
      "name": "python3",
      "display_name": "Python 3"
    },
    "accelerator": "GPU"
  },
  "cells": [
    {
      "cell_type": "markdown",
      "metadata": {
        "id": "view-in-github",
        "colab_type": "text"
      },
      "source": [
        "<a href=\"https://colab.research.google.com/github/ashishpatel26/tcn-keras-Examples/blob/master/TCN_Many_to_Many_Regression.ipynb\" target=\"_parent\"><img src=\"https://colab.research.google.com/assets/colab-badge.svg\" alt=\"Open In Colab\"/></a>"
      ]
    },
    {
      "cell_type": "code",
      "metadata": {
        "id": "kULRG9OMibaO",
        "colab_type": "code",
        "colab": {
          "base_uri": "https://localhost:8080/",
          "height": 187
        },
        "outputId": "5f1ae6d5-2c11-4e18-8fd8-2769996bd519"
      },
      "source": [
        "!pip install keras-tcn\n",
        "!pip install wget\n",
        "from tcn import compiled_tcn\n",
        "from sklearn.metrics import mean_squared_error\n",
        "from sklearn.preprocessing import MinMaxScaler\n",
        "import numpy as np\n",
        "import wget"
      ],
      "execution_count": 4,
      "outputs": [
        {
          "output_type": "stream",
          "text": [
            "Requirement already satisfied: keras-tcn in /usr/local/lib/python3.6/dist-packages (3.1.1)\n",
            "Requirement already satisfied: keras==2.3.1 in /usr/local/lib/python3.6/dist-packages (from keras-tcn) (2.3.1)\n",
            "Requirement already satisfied: numpy>=1.18.1 in /usr/local/lib/python3.6/dist-packages (from keras-tcn) (1.18.5)\n",
            "Requirement already satisfied: six>=1.9.0 in /usr/local/lib/python3.6/dist-packages (from keras==2.3.1->keras-tcn) (1.15.0)\n",
            "Requirement already satisfied: keras-preprocessing>=1.0.5 in /usr/local/lib/python3.6/dist-packages (from keras==2.3.1->keras-tcn) (1.1.2)\n",
            "Requirement already satisfied: h5py in /usr/local/lib/python3.6/dist-packages (from keras==2.3.1->keras-tcn) (2.10.0)\n",
            "Requirement already satisfied: keras-applications>=1.0.6 in /usr/local/lib/python3.6/dist-packages (from keras==2.3.1->keras-tcn) (1.0.8)\n",
            "Requirement already satisfied: pyyaml in /usr/local/lib/python3.6/dist-packages (from keras==2.3.1->keras-tcn) (3.13)\n",
            "Requirement already satisfied: scipy>=0.14 in /usr/local/lib/python3.6/dist-packages (from keras==2.3.1->keras-tcn) (1.4.1)\n",
            "Requirement already satisfied: wget in /usr/local/lib/python3.6/dist-packages (3.2)\n"
          ],
          "name": "stdout"
        }
      ]
    },
    {
      "cell_type": "code",
      "metadata": {
        "id": "lfi2Tzs2kAVp",
        "colab_type": "code",
        "colab": {
          "base_uri": "https://localhost:8080/",
          "height": 35
        },
        "outputId": "01d8dbf1-65f9-4186-c7aa-dcd9fc9b560a"
      },
      "source": [
        "wget.download('https://github.com/philipperemy/keras-tcn/raw/master/tasks/exchange_rate/exchange_rate.txt')"
      ],
      "execution_count": 5,
      "outputs": [
        {
          "output_type": "execute_result",
          "data": {
            "application/vnd.google.colaboratory.intrinsic+json": {
              "type": "string"
            },
            "text/plain": [
              "'exchange_rate (1).txt'"
            ]
          },
          "metadata": {
            "tags": []
          },
          "execution_count": 5
        }
      ]
    },
    {
      "cell_type": "markdown",
      "metadata": {
        "id": "zbyK6EeNNoWj",
        "colab_type": "text"
      },
      "source": [
        "### Read data"
      ]
    },
    {
      "cell_type": "code",
      "metadata": {
        "id": "USCO8Z5pipUx",
        "colab_type": "code",
        "colab": {}
      },
      "source": [
        "def get_xy_kfolds(split_index=[0.5, 0.6, 0.7, 0.8, 0.9], timesteps=1000):\n",
        "    \"\"\"\n",
        "    load exchange rate dataset and preprecess it, then split it into k-folds for CV\n",
        "    :param split_index: list, the ratio of whole dataset as train set\n",
        "    :param timesteps: length of a single train x sample\n",
        "    :return: list, [train_x_set,train_y_set,test_x_single,test_y_single]\n",
        "    \"\"\"\n",
        "    df = np.loadtxt('exchange_rate.txt', delimiter=',')\n",
        "    n = len(df)\n",
        "    folds = []\n",
        "    enc = MinMaxScaler()\n",
        "    df = enc.fit_transform(df)\n",
        "    for split_point in split_index:\n",
        "        train_end = int(split_point * n)\n",
        "        train_x, train_y = [], []\n",
        "        for i in range(train_end - timesteps):\n",
        "            train_x.append(df[i:i + timesteps])\n",
        "            train_y.append(df[i + timesteps])\n",
        "        train_x = np.array(train_x)\n",
        "        train_y = np.array(train_y)\n",
        "        test_x = df[train_end - timesteps + 1:train_end + 1]\n",
        "        test_y = df[train_end + 1]\n",
        "        folds.append((train_x, train_y, test_x, test_y))\n",
        "    return folds, enc"
      ],
      "execution_count": 16,
      "outputs": []
    },
    {
      "cell_type": "markdown",
      "metadata": {
        "id": "tNskXr9BUBCv",
        "colab_type": "text"
      },
      "source": [
        "### Folds Contrains 5 Value with List below\n",
        "* Change the folds value by just passing like below example\n",
        "\n",
        "```\n",
        "We have 5 Folds Values\n",
        "\n",
        "  train_x, train_y, test_x, test_y = folds[0]\n",
        "  train_x, train_y, test_x, test_y = folds[1]\n",
        "  train_x, train_y, test_x, test_y = folds[2]\n",
        "  train_x, train_y, test_x, test_y = folds[3]\n",
        "  train_x, train_y, test_x, test_y = folds[4]\n",
        "```"
      ]
    },
    {
      "cell_type": "code",
      "metadata": {
        "id": "KmtY-yK8jZzD",
        "colab_type": "code",
        "colab": {
          "base_uri": "https://localhost:8080/",
          "height": 34
        },
        "outputId": "ae006fc6-c333-4c4b-a97a-a8ad70fa3645"
      },
      "source": [
        "folds, enc = get_xy_kfolds(split_index=[0.5, 0.6, 0.7, 0.8, 0.9], timesteps=1000)\n",
        "\n",
        "mse_list = []\n",
        "# train_x, train_y, test_x, test_y = folds[0]\n",
        "train_x, train_y, test_x, test_y = folds[1]\n",
        "# train_x, train_y, test_x, test_y = folds[2]\n",
        "# train_x, train_y, test_x, test_y = folds[3]\n",
        "# train_x, train_y, test_x, test_y = folds[4]\n",
        "print(train_x.shape, train_y.shape, test_x.shape, test_y.shape)"
      ],
      "execution_count": 28,
      "outputs": [
        {
          "output_type": "stream",
          "text": [
            "(3552, 1000, 8) (3552, 8) (1000, 8) (8,)\n"
          ],
          "name": "stdout"
        }
      ]
    },
    {
      "cell_type": "markdown",
      "metadata": {
        "id": "wiDgSc9uTM5V",
        "colab_type": "text"
      },
      "source": [
        "### Model Design"
      ]
    },
    {
      "cell_type": "code",
      "metadata": {
        "id": "KMp31scgTL1r",
        "colab_type": "code",
        "colab": {
          "base_uri": "https://localhost:8080/",
          "height": 340
        },
        "outputId": "be9d7c28-49fb-4d03-c0c4-6e82063d917d"
      },
      "source": [
        "#model object has defined\n",
        "model = compiled_tcn(return_sequences=False,\n",
        "                      num_feat=test_x.shape[1],\n",
        "                      nb_filters=24,\n",
        "                      num_classes=0,\n",
        "                      kernel_size=8,\n",
        "                      dilations=[2 ** i for i in range(9)],\n",
        "                      nb_stacks=1,\n",
        "                      max_len=test_x.shape[0],\n",
        "                      use_skip_connections=True,\n",
        "                      regression=True,\n",
        "                      dropout_rate=0,\n",
        "                      output_len=test_y.shape[0])\n",
        "\n",
        "model.summary()"
      ],
      "execution_count": 29,
      "outputs": [
        {
          "output_type": "stream",
          "text": [
            "x.shape= (None, 24)\n",
            "model.x = (None, 1000, 8)\n",
            "model.y = (None, 8)\n",
            "Model: \"functional_7\"\n",
            "_________________________________________________________________\n",
            "Layer (type)                 Output Shape              Param #   \n",
            "=================================================================\n",
            "input_4 (InputLayer)         [(None, 1000, 8)]         0         \n",
            "_________________________________________________________________\n",
            "tcn (TCN)                    (None, 24)                80520     \n",
            "_________________________________________________________________\n",
            "dense_3 (Dense)              (None, 8)                 200       \n",
            "_________________________________________________________________\n",
            "activation_3 (Activation)    (None, 8)                 0         \n",
            "=================================================================\n",
            "Total params: 80,720\n",
            "Trainable params: 80,720\n",
            "Non-trainable params: 0\n",
            "_________________________________________________________________\n"
          ],
          "name": "stdout"
        }
      ]
    },
    {
      "cell_type": "markdown",
      "metadata": {
        "id": "dcuoamycTTbS",
        "colab_type": "text"
      },
      "source": [
        "### training the model"
      ]
    },
    {
      "cell_type": "code",
      "metadata": {
        "id": "89zxn0PCjddq",
        "colab_type": "code",
        "colab": {
          "base_uri": "https://localhost:8080/",
          "height": 1000
        },
        "outputId": "cd85cd39-130b-49c3-d5af-7e70bdc5392f"
      },
      "source": [
        "# training the model\n",
        "model.fit(train_x, train_y, batch_size=256, epochs=30)"
      ],
      "execution_count": 30,
      "outputs": [
        {
          "output_type": "stream",
          "text": [
            "Epoch 1/30\n",
            " 2/14 [===>..........................] - ETA: 2s - loss: 194.7882WARNING:tensorflow:Callbacks method `on_train_batch_end` is slow compared to the batch time (batch time: 0.0720s vs `on_train_batch_end` time: 0.1684s). Check your callbacks.\n",
            "14/14 [==============================] - 3s 236ms/step - loss: 29.2627\n",
            "Epoch 2/30\n",
            "14/14 [==============================] - 3s 232ms/step - loss: 0.0192\n",
            "Epoch 3/30\n",
            "14/14 [==============================] - 3s 233ms/step - loss: 0.0085\n",
            "Epoch 4/30\n",
            "14/14 [==============================] - 3s 234ms/step - loss: 0.0050\n",
            "Epoch 5/30\n",
            "14/14 [==============================] - 3s 235ms/step - loss: 0.0037\n",
            "Epoch 6/30\n",
            "14/14 [==============================] - 3s 234ms/step - loss: 0.0030\n",
            "Epoch 7/30\n",
            "14/14 [==============================] - 3s 233ms/step - loss: 0.0025\n",
            "Epoch 8/30\n",
            "14/14 [==============================] - 3s 231ms/step - loss: 0.0022\n",
            "Epoch 9/30\n",
            "14/14 [==============================] - 3s 230ms/step - loss: 0.0020\n",
            "Epoch 10/30\n",
            "14/14 [==============================] - 3s 229ms/step - loss: 0.0018\n",
            "Epoch 11/30\n",
            "14/14 [==============================] - 3s 229ms/step - loss: 0.0017\n",
            "Epoch 12/30\n",
            "14/14 [==============================] - 3s 228ms/step - loss: 0.0016\n",
            "Epoch 13/30\n",
            "14/14 [==============================] - 3s 228ms/step - loss: 0.0015\n",
            "Epoch 14/30\n",
            "14/14 [==============================] - 3s 227ms/step - loss: 0.0014\n",
            "Epoch 15/30\n",
            "14/14 [==============================] - 3s 227ms/step - loss: 0.0013\n",
            "Epoch 16/30\n",
            "14/14 [==============================] - 3s 227ms/step - loss: 0.0012\n",
            "Epoch 17/30\n",
            "14/14 [==============================] - 3s 227ms/step - loss: 0.0012\n",
            "Epoch 18/30\n",
            "14/14 [==============================] - 3s 227ms/step - loss: 0.0011\n",
            "Epoch 19/30\n",
            "14/14 [==============================] - 3s 227ms/step - loss: 0.0011\n",
            "Epoch 20/30\n",
            "14/14 [==============================] - 3s 228ms/step - loss: 0.0010\n",
            "Epoch 21/30\n",
            "14/14 [==============================] - 3s 227ms/step - loss: 0.0010\n",
            "Epoch 22/30\n",
            "14/14 [==============================] - 3s 228ms/step - loss: 9.3290e-04\n",
            "Epoch 23/30\n",
            "14/14 [==============================] - 3s 228ms/step - loss: 9.1296e-04\n",
            "Epoch 24/30\n",
            "14/14 [==============================] - 3s 229ms/step - loss: 8.9163e-04\n",
            "Epoch 25/30\n",
            "14/14 [==============================] - 3s 230ms/step - loss: 8.6485e-04\n",
            "Epoch 26/30\n",
            "14/14 [==============================] - 3s 229ms/step - loss: 8.1703e-04\n",
            "Epoch 27/30\n",
            "14/14 [==============================] - 3s 229ms/step - loss: 7.9295e-04\n",
            "Epoch 28/30\n",
            "14/14 [==============================] - 3s 229ms/step - loss: 7.7812e-04\n",
            "Epoch 29/30\n",
            "14/14 [==============================] - 3s 230ms/step - loss: 7.6373e-04\n",
            "Epoch 30/30\n",
            "14/14 [==============================] - 3s 229ms/step - loss: 7.4872e-04\n"
          ],
          "name": "stdout"
        },
        {
          "output_type": "execute_result",
          "data": {
            "text/plain": [
              "<tensorflow.python.keras.callbacks.History at 0x7fd1b6457860>"
            ]
          },
          "metadata": {
            "tags": []
          },
          "execution_count": 30
        }
      ]
    },
    {
      "cell_type": "markdown",
      "metadata": {
        "id": "I1MV9ILMTdKW",
        "colab_type": "text"
      },
      "source": [
        "### Predict the X_test Value"
      ]
    },
    {
      "cell_type": "code",
      "metadata": {
        "id": "mv8i0R5HjmDR",
        "colab_type": "code",
        "colab": {}
      },
      "source": [
        "# predict the value from x_test\n",
        "y_raw_pred = model.predict(np.array([test_x]))\n",
        "\n",
        "# Invert transform for get a original value\n",
        "y_pred = enc.inverse_transform(y_raw_pred).flatten()\n",
        "y_true = enc.inverse_transform([test_y]).flatten()"
      ],
      "execution_count": 25,
      "outputs": []
    },
    {
      "cell_type": "markdown",
      "metadata": {
        "id": "gT0OKO-aTlvJ",
        "colab_type": "text"
      },
      "source": [
        "### Model Evaluation with Mean Square Error"
      ]
    },
    {
      "cell_type": "code",
      "metadata": {
        "id": "RICZg3d7Tkp1",
        "colab_type": "code",
        "colab": {
          "base_uri": "https://localhost:8080/",
          "height": 34
        },
        "outputId": "4542e211-ee03-4ff0-8313-c747aab8c74e"
      },
      "source": [
        "# Calculate the Mean Square Error for Regression Problem\n",
        "mse_cur = mean_squared_error(y_true, y_pred)\n",
        "\n",
        "# Append the error in to mse_list\n",
        "# mse_list.append(mse_cur)\n",
        "\n",
        "# print the shape of xtrain\n",
        "# print(f\"train_set_size:{train_x.shape[0]}\")\n",
        "\n",
        "# print the y_true and y_pred\n",
        "# print(f\"y_true:{y_true}\")\n",
        "# print(f\"y_pred:{y_pred}\")\n",
        "\n",
        "# print the current MSE value\n",
        "print(f\"mse:{mse_cur}\")\n",
        "\n",
        "# print(f\"finial loss on test set: {np.mean(mse_list)}\")"
      ],
      "execution_count": 27,
      "outputs": [
        {
          "output_type": "stream",
          "text": [
            "mse:0.00032251839564405055\n"
          ],
          "name": "stdout"
        }
      ]
    }
  ]
}