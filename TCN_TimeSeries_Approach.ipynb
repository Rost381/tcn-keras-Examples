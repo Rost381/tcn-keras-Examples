{
  "nbformat": 4,
  "nbformat_minor": 0,
  "metadata": {
    "colab": {
      "name": "TCN_TimeSeries Approach.ipynb",
      "provenance": [],
      "toc_visible": true,
      "authorship_tag": "ABX9TyMraTlQ8kv+xnwl20VqvBEw",
      "include_colab_link": true
    },
    "kernelspec": {
      "name": "python3",
      "display_name": "Python 3"
    },
    "widgets": {
      "application/vnd.jupyter.widget-state+json": {
        "f2df124fb46a42d9a8011c589d478eee": {
          "model_module": "@jupyter-widgets/controls",
          "model_name": "HBoxModel",
          "state": {
            "_view_name": "HBoxView",
            "_dom_classes": [],
            "_model_name": "HBoxModel",
            "_view_module": "@jupyter-widgets/controls",
            "_model_module_version": "1.5.0",
            "_view_count": null,
            "_view_module_version": "1.5.0",
            "box_style": "",
            "layout": "IPY_MODEL_76367dff33c247d88f1c2240be90a0d7",
            "_model_module": "@jupyter-widgets/controls",
            "children": [
              "IPY_MODEL_d3193b57a3fd4706bc6dc19aa65b71e1",
              "IPY_MODEL_2e09e1b207e840bca57333c9d7ac6117"
            ]
          }
        },
        "76367dff33c247d88f1c2240be90a0d7": {
          "model_module": "@jupyter-widgets/base",
          "model_name": "LayoutModel",
          "state": {
            "_view_name": "LayoutView",
            "grid_template_rows": null,
            "right": null,
            "justify_content": null,
            "_view_module": "@jupyter-widgets/base",
            "overflow": null,
            "_model_module_version": "1.2.0",
            "_view_count": null,
            "flex_flow": null,
            "width": null,
            "min_width": null,
            "border": null,
            "align_items": null,
            "bottom": null,
            "_model_module": "@jupyter-widgets/base",
            "top": null,
            "grid_column": null,
            "overflow_y": null,
            "overflow_x": null,
            "grid_auto_flow": null,
            "grid_area": null,
            "grid_template_columns": null,
            "flex": null,
            "_model_name": "LayoutModel",
            "justify_items": null,
            "grid_row": null,
            "max_height": null,
            "align_content": null,
            "visibility": null,
            "align_self": null,
            "height": null,
            "min_height": null,
            "padding": null,
            "grid_auto_rows": null,
            "grid_gap": null,
            "max_width": null,
            "order": null,
            "_view_module_version": "1.2.0",
            "grid_template_areas": null,
            "object_position": null,
            "object_fit": null,
            "grid_auto_columns": null,
            "margin": null,
            "display": null,
            "left": null
          }
        },
        "d3193b57a3fd4706bc6dc19aa65b71e1": {
          "model_module": "@jupyter-widgets/controls",
          "model_name": "FloatProgressModel",
          "state": {
            "_view_name": "ProgressView",
            "style": "IPY_MODEL_e18cae27f2d5475e890a64a948429557",
            "_dom_classes": [],
            "description": "100%",
            "_model_name": "FloatProgressModel",
            "bar_style": "success",
            "max": 156,
            "_view_module": "@jupyter-widgets/controls",
            "_model_module_version": "1.5.0",
            "value": 156,
            "_view_count": null,
            "_view_module_version": "1.5.0",
            "orientation": "horizontal",
            "min": 0,
            "description_tooltip": null,
            "_model_module": "@jupyter-widgets/controls",
            "layout": "IPY_MODEL_bebf5d0c2d3042f8be7fec73ed15af54"
          }
        },
        "2e09e1b207e840bca57333c9d7ac6117": {
          "model_module": "@jupyter-widgets/controls",
          "model_name": "HTMLModel",
          "state": {
            "_view_name": "HTMLView",
            "style": "IPY_MODEL_7f5c424416da4871aba7a7c3ad14d68c",
            "_dom_classes": [],
            "description": "",
            "_model_name": "HTMLModel",
            "placeholder": "​",
            "_view_module": "@jupyter-widgets/controls",
            "_model_module_version": "1.5.0",
            "value": " 156/156 [03:57&lt;00:00,  1.53s/it]",
            "_view_count": null,
            "_view_module_version": "1.5.0",
            "description_tooltip": null,
            "_model_module": "@jupyter-widgets/controls",
            "layout": "IPY_MODEL_498b6f8b6789463887b4b3a6f237d924"
          }
        },
        "e18cae27f2d5475e890a64a948429557": {
          "model_module": "@jupyter-widgets/controls",
          "model_name": "ProgressStyleModel",
          "state": {
            "_view_name": "StyleView",
            "_model_name": "ProgressStyleModel",
            "description_width": "initial",
            "_view_module": "@jupyter-widgets/base",
            "_model_module_version": "1.5.0",
            "_view_count": null,
            "_view_module_version": "1.2.0",
            "bar_color": null,
            "_model_module": "@jupyter-widgets/controls"
          }
        },
        "bebf5d0c2d3042f8be7fec73ed15af54": {
          "model_module": "@jupyter-widgets/base",
          "model_name": "LayoutModel",
          "state": {
            "_view_name": "LayoutView",
            "grid_template_rows": null,
            "right": null,
            "justify_content": null,
            "_view_module": "@jupyter-widgets/base",
            "overflow": null,
            "_model_module_version": "1.2.0",
            "_view_count": null,
            "flex_flow": null,
            "width": null,
            "min_width": null,
            "border": null,
            "align_items": null,
            "bottom": null,
            "_model_module": "@jupyter-widgets/base",
            "top": null,
            "grid_column": null,
            "overflow_y": null,
            "overflow_x": null,
            "grid_auto_flow": null,
            "grid_area": null,
            "grid_template_columns": null,
            "flex": null,
            "_model_name": "LayoutModel",
            "justify_items": null,
            "grid_row": null,
            "max_height": null,
            "align_content": null,
            "visibility": null,
            "align_self": null,
            "height": null,
            "min_height": null,
            "padding": null,
            "grid_auto_rows": null,
            "grid_gap": null,
            "max_width": null,
            "order": null,
            "_view_module_version": "1.2.0",
            "grid_template_areas": null,
            "object_position": null,
            "object_fit": null,
            "grid_auto_columns": null,
            "margin": null,
            "display": null,
            "left": null
          }
        },
        "7f5c424416da4871aba7a7c3ad14d68c": {
          "model_module": "@jupyter-widgets/controls",
          "model_name": "DescriptionStyleModel",
          "state": {
            "_view_name": "StyleView",
            "_model_name": "DescriptionStyleModel",
            "description_width": "",
            "_view_module": "@jupyter-widgets/base",
            "_model_module_version": "1.5.0",
            "_view_count": null,
            "_view_module_version": "1.2.0",
            "_model_module": "@jupyter-widgets/controls"
          }
        },
        "498b6f8b6789463887b4b3a6f237d924": {
          "model_module": "@jupyter-widgets/base",
          "model_name": "LayoutModel",
          "state": {
            "_view_name": "LayoutView",
            "grid_template_rows": null,
            "right": null,
            "justify_content": null,
            "_view_module": "@jupyter-widgets/base",
            "overflow": null,
            "_model_module_version": "1.2.0",
            "_view_count": null,
            "flex_flow": null,
            "width": null,
            "min_width": null,
            "border": null,
            "align_items": null,
            "bottom": null,
            "_model_module": "@jupyter-widgets/base",
            "top": null,
            "grid_column": null,
            "overflow_y": null,
            "overflow_x": null,
            "grid_auto_flow": null,
            "grid_area": null,
            "grid_template_columns": null,
            "flex": null,
            "_model_name": "LayoutModel",
            "justify_items": null,
            "grid_row": null,
            "max_height": null,
            "align_content": null,
            "visibility": null,
            "align_self": null,
            "height": null,
            "min_height": null,
            "padding": null,
            "grid_auto_rows": null,
            "grid_gap": null,
            "max_width": null,
            "order": null,
            "_view_module_version": "1.2.0",
            "grid_template_areas": null,
            "object_position": null,
            "object_fit": null,
            "grid_auto_columns": null,
            "margin": null,
            "display": null,
            "left": null
          }
        }
      }
    }
  },
  "cells": [
    {
      "cell_type": "markdown",
      "metadata": {
        "id": "view-in-github",
        "colab_type": "text"
      },
      "source": [
        "<a href=\"https://colab.research.google.com/github/ashishpatel26/tcn-keras-Examples/blob/master/TCN_TimeSeries_Approach.ipynb\" target=\"_parent\"><img src=\"https://colab.research.google.com/assets/colab-badge.svg\" alt=\"Open In Colab\"/></a>"
      ]
    },
    {
      "cell_type": "markdown",
      "metadata": {
        "id": "rNmNWqlKa_8E",
        "colab_type": "text"
      },
      "source": [
        "### Load Library"
      ]
    },
    {
      "cell_type": "code",
      "metadata": {
        "id": "EEq6d7AUa9Wp",
        "colab_type": "code",
        "colab": {
          "base_uri": "https://localhost:8080/",
          "height": 187
        },
        "outputId": "d490ea40-c639-45ef-9ce9-6071e4247065"
      },
      "source": [
        "!pip install wget\n",
        "!pip install keras-tcn\n",
        "import wget\n",
        "import matplotlib.pyplot as plt\n",
        "import numpy as np\n",
        "import pandas as pd\n",
        "from tensorflow.keras import Input, Model\n",
        "from tensorflow.keras.layers import Dense\n",
        "from tqdm.notebook import tqdm\n",
        "\n",
        "from tcn import TCN"
      ],
      "execution_count": 25,
      "outputs": [
        {
          "output_type": "stream",
          "text": [
            "Requirement already satisfied: wget in /usr/local/lib/python3.6/dist-packages (3.2)\n",
            "Requirement already satisfied: keras-tcn in /usr/local/lib/python3.6/dist-packages (3.1.1)\n",
            "Requirement already satisfied: keras==2.3.1 in /usr/local/lib/python3.6/dist-packages (from keras-tcn) (2.3.1)\n",
            "Requirement already satisfied: numpy>=1.18.1 in /usr/local/lib/python3.6/dist-packages (from keras-tcn) (1.18.5)\n",
            "Requirement already satisfied: six>=1.9.0 in /usr/local/lib/python3.6/dist-packages (from keras==2.3.1->keras-tcn) (1.15.0)\n",
            "Requirement already satisfied: scipy>=0.14 in /usr/local/lib/python3.6/dist-packages (from keras==2.3.1->keras-tcn) (1.4.1)\n",
            "Requirement already satisfied: pyyaml in /usr/local/lib/python3.6/dist-packages (from keras==2.3.1->keras-tcn) (3.13)\n",
            "Requirement already satisfied: keras-preprocessing>=1.0.5 in /usr/local/lib/python3.6/dist-packages (from keras==2.3.1->keras-tcn) (1.1.2)\n",
            "Requirement already satisfied: h5py in /usr/local/lib/python3.6/dist-packages (from keras==2.3.1->keras-tcn) (2.10.0)\n",
            "Requirement already satisfied: keras-applications>=1.0.6 in /usr/local/lib/python3.6/dist-packages (from keras==2.3.1->keras-tcn) (1.0.8)\n"
          ],
          "name": "stdout"
        }
      ]
    },
    {
      "cell_type": "code",
      "metadata": {
        "id": "rHIVSlGTbWgU",
        "colab_type": "code",
        "colab": {
          "base_uri": "https://localhost:8080/",
          "height": 35
        },
        "outputId": "48066cd3-9776-4ec0-92b4-6ca0c4e956a5"
      },
      "source": [
        "wget.download(\"https://github.com/philipperemy/keras-tcn/raw/master/tasks/monthly-milk-production-pounds-p.csv\")"
      ],
      "execution_count": 26,
      "outputs": [
        {
          "output_type": "execute_result",
          "data": {
            "application/vnd.google.colaboratory.intrinsic+json": {
              "type": "string"
            },
            "text/plain": [
              "'monthly-milk-production-pounds-p (1).csv'"
            ]
          },
          "metadata": {
            "tags": []
          },
          "execution_count": 26
        }
      ]
    },
    {
      "cell_type": "markdown",
      "metadata": {
        "id": "UMr5G8xhcCxj",
        "colab_type": "text"
      },
      "source": [
        "### Read the dataset"
      ]
    },
    {
      "cell_type": "code",
      "metadata": {
        "id": "Rf8_Eyn9ba2y",
        "colab_type": "code",
        "colab": {}
      },
      "source": [
        "milk = pd.read_csv('monthly-milk-production-pounds-p.csv', index_col=0, parse_dates=True)"
      ],
      "execution_count": 27,
      "outputs": []
    },
    {
      "cell_type": "markdown",
      "metadata": {
        "id": "SUK__zQQcJhk",
        "colab_type": "text"
      },
      "source": [
        "### Display top5 Record"
      ]
    },
    {
      "cell_type": "code",
      "metadata": {
        "id": "kJmbRdavcFJb",
        "colab_type": "code",
        "colab": {
          "base_uri": "https://localhost:8080/",
          "height": 252
        },
        "outputId": "6f47e2e8-b5be-4b8f-c16a-3ed800c21462"
      },
      "source": [
        "print(milk.shape)\n",
        "milk.head()"
      ],
      "execution_count": 28,
      "outputs": [
        {
          "output_type": "stream",
          "text": [
            "(168, 1)\n"
          ],
          "name": "stdout"
        },
        {
          "output_type": "execute_result",
          "data": {
            "text/html": [
              "<div>\n",
              "<style scoped>\n",
              "    .dataframe tbody tr th:only-of-type {\n",
              "        vertical-align: middle;\n",
              "    }\n",
              "\n",
              "    .dataframe tbody tr th {\n",
              "        vertical-align: top;\n",
              "    }\n",
              "\n",
              "    .dataframe thead th {\n",
              "        text-align: right;\n",
              "    }\n",
              "</style>\n",
              "<table border=\"1\" class=\"dataframe\">\n",
              "  <thead>\n",
              "    <tr style=\"text-align: right;\">\n",
              "      <th></th>\n",
              "      <th>milk_production_pounds</th>\n",
              "    </tr>\n",
              "    <tr>\n",
              "      <th>month</th>\n",
              "      <th></th>\n",
              "    </tr>\n",
              "  </thead>\n",
              "  <tbody>\n",
              "    <tr>\n",
              "      <th>1962-01-01</th>\n",
              "      <td>589</td>\n",
              "    </tr>\n",
              "    <tr>\n",
              "      <th>1962-02-01</th>\n",
              "      <td>561</td>\n",
              "    </tr>\n",
              "    <tr>\n",
              "      <th>1962-03-01</th>\n",
              "      <td>640</td>\n",
              "    </tr>\n",
              "    <tr>\n",
              "      <th>1962-04-01</th>\n",
              "      <td>656</td>\n",
              "    </tr>\n",
              "    <tr>\n",
              "      <th>1962-05-01</th>\n",
              "      <td>727</td>\n",
              "    </tr>\n",
              "  </tbody>\n",
              "</table>\n",
              "</div>"
            ],
            "text/plain": [
              "            milk_production_pounds\n",
              "month                             \n",
              "1962-01-01                     589\n",
              "1962-02-01                     561\n",
              "1962-03-01                     640\n",
              "1962-04-01                     656\n",
              "1962-05-01                     727"
            ]
          },
          "metadata": {
            "tags": []
          },
          "execution_count": 28
        }
      ]
    },
    {
      "cell_type": "markdown",
      "metadata": {
        "id": "OxtoyYB_cPJR",
        "colab_type": "text"
      },
      "source": [
        "### Lookback 12 month windows"
      ]
    },
    {
      "cell_type": "code",
      "metadata": {
        "id": "I8TY8aTQcIR4",
        "colab_type": "code",
        "colab": {}
      },
      "source": [
        "lookback_window = 12 "
      ],
      "execution_count": 29,
      "outputs": []
    },
    {
      "cell_type": "markdown",
      "metadata": {
        "id": "zDy7WxEtcV96",
        "colab_type": "text"
      },
      "source": [
        "### Convert Milk Data into Numpy Array"
      ]
    },
    {
      "cell_type": "code",
      "metadata": {
        "id": "GOV5KuwJcR3Z",
        "colab_type": "code",
        "colab": {}
      },
      "source": [
        "milk = milk.values  "
      ],
      "execution_count": 30,
      "outputs": []
    },
    {
      "cell_type": "markdown",
      "metadata": {
        "id": "xTd4_RAhcf_G",
        "colab_type": "text"
      },
      "source": [
        "### Convert in to X, y format"
      ]
    },
    {
      "cell_type": "code",
      "metadata": {
        "id": "QRHxD8-vcZua",
        "colab_type": "code",
        "colab": {
          "base_uri": "https://localhost:8080/",
          "height": 66,
          "referenced_widgets": [
            "f2df124fb46a42d9a8011c589d478eee",
            "76367dff33c247d88f1c2240be90a0d7",
            "d3193b57a3fd4706bc6dc19aa65b71e1",
            "2e09e1b207e840bca57333c9d7ac6117",
            "e18cae27f2d5475e890a64a948429557",
            "bebf5d0c2d3042f8be7fec73ed15af54",
            "7f5c424416da4871aba7a7c3ad14d68c",
            "498b6f8b6789463887b4b3a6f237d924"
          ]
        },
        "outputId": "fe102cc0-2b28-4e6e-efb1-c701ec8f0964"
      },
      "source": [
        "x = []\n",
        "y = []\n",
        "for i in tqdm(range(lookback_window, len(milk))):\n",
        "    x.append(milk[i - lookback_window:i])\n",
        "    y.append(milk[i])"
      ],
      "execution_count": 31,
      "outputs": [
        {
          "output_type": "display_data",
          "data": {
            "application/vnd.jupyter.widget-view+json": {
              "model_id": "f2df124fb46a42d9a8011c589d478eee",
              "version_minor": 0,
              "version_major": 2
            },
            "text/plain": [
              "HBox(children=(FloatProgress(value=0.0, max=156.0), HTML(value='')))"
            ]
          },
          "metadata": {
            "tags": []
          }
        },
        {
          "output_type": "stream",
          "text": [
            "\n"
          ],
          "name": "stdout"
        }
      ]
    },
    {
      "cell_type": "markdown",
      "metadata": {
        "id": "h6NKNRpUdU0e",
        "colab_type": "text"
      },
      "source": [
        "### Generate Array of list x and y"
      ]
    },
    {
      "cell_type": "code",
      "metadata": {
        "id": "B3xGy8bec9Q5",
        "colab_type": "code",
        "colab": {
          "base_uri": "https://localhost:8080/",
          "height": 51
        },
        "outputId": "1fd1af26-ee70-40ef-d3c6-3b060253f1c0"
      },
      "source": [
        "x = np.array(x)\n",
        "y = np.array(y)\n",
        "print(x.shape)\n",
        "print(y.shape)"
      ],
      "execution_count": 33,
      "outputs": [
        {
          "output_type": "stream",
          "text": [
            "(156, 12, 1)\n",
            "(156, 1)\n"
          ],
          "name": "stdout"
        }
      ]
    },
    {
      "cell_type": "markdown",
      "metadata": {
        "id": "3dqsLFT4dk7s",
        "colab_type": "text"
      },
      "source": [
        "### Model Design"
      ]
    },
    {
      "cell_type": "code",
      "metadata": {
        "id": "y783wDIxdeke",
        "colab_type": "code",
        "colab": {
          "base_uri": "https://localhost:8080/",
          "height": 255
        },
        "outputId": "26fb6222-a92a-498c-dda1-2421ad9ea5c8"
      },
      "source": [
        "i = Input(shape=(lookback_window, 1))\n",
        "m = TCN()(i)\n",
        "m = Dense(1, activation='linear')(m)\n",
        "\n",
        "model = Model(inputs=[i], outputs=[m])\n",
        "model.summary()"
      ],
      "execution_count": 35,
      "outputs": [
        {
          "output_type": "stream",
          "text": [
            "Model: \"functional_1\"\n",
            "_________________________________________________________________\n",
            "Layer (type)                 Output Shape              Param #   \n",
            "=================================================================\n",
            "input_1 (InputLayer)         [(None, 12, 1)]           0         \n",
            "_________________________________________________________________\n",
            "tcn (TCN)                    (None, 64)                91136     \n",
            "_________________________________________________________________\n",
            "dense (Dense)                (None, 1)                 65        \n",
            "=================================================================\n",
            "Total params: 91,201\n",
            "Trainable params: 91,201\n",
            "Non-trainable params: 0\n",
            "_________________________________________________________________\n"
          ],
          "name": "stdout"
        }
      ]
    },
    {
      "cell_type": "code",
      "metadata": {
        "id": "Fsv10DsLdtKy",
        "colab_type": "code",
        "colab": {}
      },
      "source": [
        "model.compile('adam','mae')"
      ],
      "execution_count": 49,
      "outputs": []
    },
    {
      "cell_type": "markdown",
      "metadata": {
        "id": "UjY_u3rid3m0",
        "colab_type": "text"
      },
      "source": [
        "### Time for Model training..."
      ]
    },
    {
      "cell_type": "code",
      "metadata": {
        "id": "rfU_56-zd0eC",
        "colab_type": "code",
        "colab": {
          "base_uri": "https://localhost:8080/",
          "height": 1000
        },
        "outputId": "956257c6-9c51-4c3d-b007-752b10849ac9"
      },
      "source": [
        "print('Train...')\n",
        "model.fit(x, y, epochs=100)"
      ],
      "execution_count": 50,
      "outputs": [
        {
          "output_type": "stream",
          "text": [
            "Train...\n",
            "Epoch 1/100\n",
            "5/5 [==============================] - 0s 25ms/step - loss: 271.5721\n",
            "Epoch 2/100\n",
            "5/5 [==============================] - 0s 26ms/step - loss: 202.3601\n",
            "Epoch 3/100\n",
            "5/5 [==============================] - 0s 23ms/step - loss: 129.1283\n",
            "Epoch 4/100\n",
            "5/5 [==============================] - 0s 25ms/step - loss: 119.5586\n",
            "Epoch 5/100\n",
            "5/5 [==============================] - 0s 25ms/step - loss: 82.7962\n",
            "Epoch 6/100\n",
            "5/5 [==============================] - 0s 23ms/step - loss: 29.5778\n",
            "Epoch 7/100\n",
            "5/5 [==============================] - 0s 23ms/step - loss: 26.9950\n",
            "Epoch 8/100\n",
            "5/5 [==============================] - 0s 25ms/step - loss: 23.8581\n",
            "Epoch 9/100\n",
            "5/5 [==============================] - 0s 23ms/step - loss: 27.1797\n",
            "Epoch 10/100\n",
            "5/5 [==============================] - 0s 24ms/step - loss: 37.1005\n",
            "Epoch 11/100\n",
            "5/5 [==============================] - 0s 27ms/step - loss: 38.2245\n",
            "Epoch 12/100\n",
            "5/5 [==============================] - 0s 23ms/step - loss: 27.9166\n",
            "Epoch 13/100\n",
            "5/5 [==============================] - 0s 27ms/step - loss: 49.9146\n",
            "Epoch 14/100\n",
            "5/5 [==============================] - 0s 24ms/step - loss: 31.0408\n",
            "Epoch 15/100\n",
            "5/5 [==============================] - 0s 25ms/step - loss: 23.8059\n",
            "Epoch 16/100\n",
            "5/5 [==============================] - 0s 24ms/step - loss: 18.7888\n",
            "Epoch 17/100\n",
            "5/5 [==============================] - 0s 24ms/step - loss: 25.1425\n",
            "Epoch 18/100\n",
            "5/5 [==============================] - 0s 25ms/step - loss: 32.6869\n",
            "Epoch 19/100\n",
            "5/5 [==============================] - 0s 23ms/step - loss: 31.6958\n",
            "Epoch 20/100\n",
            "5/5 [==============================] - 0s 23ms/step - loss: 31.2011\n",
            "Epoch 21/100\n",
            "5/5 [==============================] - 0s 23ms/step - loss: 22.9983\n",
            "Epoch 22/100\n",
            "5/5 [==============================] - 0s 25ms/step - loss: 27.7421\n",
            "Epoch 23/100\n",
            "5/5 [==============================] - 0s 24ms/step - loss: 29.9864\n",
            "Epoch 24/100\n",
            "5/5 [==============================] - 0s 23ms/step - loss: 68.7743\n",
            "Epoch 25/100\n",
            "5/5 [==============================] - 0s 23ms/step - loss: 41.1511\n",
            "Epoch 26/100\n",
            "5/5 [==============================] - 0s 24ms/step - loss: 35.2367\n",
            "Epoch 27/100\n",
            "5/5 [==============================] - 0s 23ms/step - loss: 66.6526\n",
            "Epoch 28/100\n",
            "5/5 [==============================] - 0s 24ms/step - loss: 40.3432\n",
            "Epoch 29/100\n",
            "5/5 [==============================] - 0s 23ms/step - loss: 50.4716\n",
            "Epoch 30/100\n",
            "5/5 [==============================] - 0s 25ms/step - loss: 48.0320\n",
            "Epoch 31/100\n",
            "5/5 [==============================] - 0s 24ms/step - loss: 34.7563\n",
            "Epoch 32/100\n",
            "5/5 [==============================] - 0s 24ms/step - loss: 27.2386\n",
            "Epoch 33/100\n",
            "5/5 [==============================] - 0s 24ms/step - loss: 32.2853\n",
            "Epoch 34/100\n",
            "5/5 [==============================] - 0s 25ms/step - loss: 26.1964\n",
            "Epoch 35/100\n",
            "5/5 [==============================] - 0s 25ms/step - loss: 22.9360\n",
            "Epoch 36/100\n",
            "5/5 [==============================] - 0s 23ms/step - loss: 25.1416\n",
            "Epoch 37/100\n",
            "5/5 [==============================] - 0s 24ms/step - loss: 30.5617\n",
            "Epoch 38/100\n",
            "5/5 [==============================] - 0s 25ms/step - loss: 24.7003\n",
            "Epoch 39/100\n",
            "5/5 [==============================] - 0s 23ms/step - loss: 14.7676\n",
            "Epoch 40/100\n",
            "5/5 [==============================] - 0s 24ms/step - loss: 14.6580\n",
            "Epoch 41/100\n",
            "5/5 [==============================] - 0s 24ms/step - loss: 12.4486\n",
            "Epoch 42/100\n",
            "5/5 [==============================] - 0s 24ms/step - loss: 15.5033\n",
            "Epoch 43/100\n",
            "5/5 [==============================] - 0s 23ms/step - loss: 20.4509\n",
            "Epoch 44/100\n",
            "5/5 [==============================] - 0s 23ms/step - loss: 27.3433\n",
            "Epoch 45/100\n",
            "5/5 [==============================] - 0s 23ms/step - loss: 25.6425\n",
            "Epoch 46/100\n",
            "5/5 [==============================] - 0s 24ms/step - loss: 23.2722\n",
            "Epoch 47/100\n",
            "5/5 [==============================] - 0s 24ms/step - loss: 19.9241\n",
            "Epoch 48/100\n",
            "5/5 [==============================] - 0s 23ms/step - loss: 26.6964\n",
            "Epoch 49/100\n",
            "5/5 [==============================] - 0s 23ms/step - loss: 51.5725\n",
            "Epoch 50/100\n",
            "5/5 [==============================] - 0s 24ms/step - loss: 46.1796\n",
            "Epoch 51/100\n",
            "5/5 [==============================] - 0s 24ms/step - loss: 43.5478\n",
            "Epoch 52/100\n",
            "5/5 [==============================] - 0s 23ms/step - loss: 48.7085\n",
            "Epoch 53/100\n",
            "5/5 [==============================] - 0s 23ms/step - loss: 46.6810\n",
            "Epoch 54/100\n",
            "5/5 [==============================] - 0s 23ms/step - loss: 37.4476\n",
            "Epoch 55/100\n",
            "5/5 [==============================] - 0s 24ms/step - loss: 40.0287\n",
            "Epoch 56/100\n",
            "5/5 [==============================] - 0s 25ms/step - loss: 31.3757\n",
            "Epoch 57/100\n",
            "5/5 [==============================] - 0s 23ms/step - loss: 23.3440\n",
            "Epoch 58/100\n",
            "5/5 [==============================] - 0s 24ms/step - loss: 25.6717\n",
            "Epoch 59/100\n",
            "5/5 [==============================] - 0s 23ms/step - loss: 22.8951\n",
            "Epoch 60/100\n",
            "5/5 [==============================] - 0s 24ms/step - loss: 16.8260\n",
            "Epoch 61/100\n",
            "5/5 [==============================] - 0s 23ms/step - loss: 19.1047\n",
            "Epoch 62/100\n",
            "5/5 [==============================] - 0s 23ms/step - loss: 21.6529\n",
            "Epoch 63/100\n",
            "5/5 [==============================] - 0s 23ms/step - loss: 16.5754\n",
            "Epoch 64/100\n",
            "5/5 [==============================] - 0s 24ms/step - loss: 12.2943\n",
            "Epoch 65/100\n",
            "5/5 [==============================] - 0s 25ms/step - loss: 14.4700\n",
            "Epoch 66/100\n",
            "5/5 [==============================] - 0s 24ms/step - loss: 12.4727\n",
            "Epoch 67/100\n",
            "5/5 [==============================] - 0s 24ms/step - loss: 12.2146\n",
            "Epoch 68/100\n",
            "5/5 [==============================] - 0s 23ms/step - loss: 24.3314\n",
            "Epoch 69/100\n",
            "5/5 [==============================] - 0s 23ms/step - loss: 23.2591\n",
            "Epoch 70/100\n",
            "5/5 [==============================] - 0s 23ms/step - loss: 21.5991\n",
            "Epoch 71/100\n",
            "5/5 [==============================] - 0s 24ms/step - loss: 34.6669\n",
            "Epoch 72/100\n",
            "5/5 [==============================] - 0s 24ms/step - loss: 58.7299\n",
            "Epoch 73/100\n",
            "5/5 [==============================] - 0s 24ms/step - loss: 30.8628\n",
            "Epoch 74/100\n",
            "5/5 [==============================] - 0s 23ms/step - loss: 36.4043\n",
            "Epoch 75/100\n",
            "5/5 [==============================] - 0s 23ms/step - loss: 45.6252\n",
            "Epoch 76/100\n",
            "5/5 [==============================] - 0s 24ms/step - loss: 29.5786\n",
            "Epoch 77/100\n",
            "5/5 [==============================] - 0s 23ms/step - loss: 16.1575\n",
            "Epoch 78/100\n",
            "5/5 [==============================] - 0s 24ms/step - loss: 24.9460\n",
            "Epoch 79/100\n",
            "5/5 [==============================] - 0s 23ms/step - loss: 17.0462\n",
            "Epoch 80/100\n",
            "5/5 [==============================] - 0s 23ms/step - loss: 13.5069\n",
            "Epoch 81/100\n",
            "5/5 [==============================] - 0s 24ms/step - loss: 14.0239\n",
            "Epoch 82/100\n",
            "5/5 [==============================] - 0s 23ms/step - loss: 12.9607\n",
            "Epoch 83/100\n",
            "5/5 [==============================] - 0s 23ms/step - loss: 13.6181\n",
            "Epoch 84/100\n",
            "5/5 [==============================] - 0s 23ms/step - loss: 12.3904\n",
            "Epoch 85/100\n",
            "5/5 [==============================] - 0s 26ms/step - loss: 13.5270\n",
            "Epoch 86/100\n",
            "5/5 [==============================] - 0s 23ms/step - loss: 18.3469\n",
            "Epoch 87/100\n",
            "5/5 [==============================] - 0s 24ms/step - loss: 20.0561\n",
            "Epoch 88/100\n",
            "5/5 [==============================] - 0s 22ms/step - loss: 19.5092\n",
            "Epoch 89/100\n",
            "5/5 [==============================] - 0s 23ms/step - loss: 22.7791\n",
            "Epoch 90/100\n",
            "5/5 [==============================] - 0s 22ms/step - loss: 20.7960\n",
            "Epoch 91/100\n",
            "5/5 [==============================] - 0s 23ms/step - loss: 26.3365\n",
            "Epoch 92/100\n",
            "5/5 [==============================] - 0s 24ms/step - loss: 21.1719\n",
            "Epoch 93/100\n",
            "5/5 [==============================] - 0s 22ms/step - loss: 19.5793\n",
            "Epoch 94/100\n",
            "5/5 [==============================] - 0s 23ms/step - loss: 22.3828\n",
            "Epoch 95/100\n",
            "5/5 [==============================] - 0s 23ms/step - loss: 20.0138\n",
            "Epoch 96/100\n",
            "5/5 [==============================] - 0s 23ms/step - loss: 26.0298\n",
            "Epoch 97/100\n",
            "5/5 [==============================] - 0s 23ms/step - loss: 15.8576\n",
            "Epoch 98/100\n",
            "5/5 [==============================] - 0s 23ms/step - loss: 26.3697\n",
            "Epoch 99/100\n",
            "5/5 [==============================] - 0s 24ms/step - loss: 14.8465\n",
            "Epoch 100/100\n",
            "5/5 [==============================] - 0s 22ms/step - loss: 13.5129\n"
          ],
          "name": "stdout"
        },
        {
          "output_type": "execute_result",
          "data": {
            "text/plain": [
              "<tensorflow.python.keras.callbacks.History at 0x7f5d56dfbef0>"
            ]
          },
          "metadata": {
            "tags": []
          },
          "execution_count": 50
        }
      ]
    },
    {
      "cell_type": "markdown",
      "metadata": {
        "id": "CDtjBtPQf1pd",
        "colab_type": "text"
      },
      "source": [
        "### Prediction with TCN Model"
      ]
    },
    {
      "cell_type": "code",
      "metadata": {
        "id": "SMEjd-8Gd-VK",
        "colab_type": "code",
        "colab": {}
      },
      "source": [
        "predict = model.predict(x)"
      ],
      "execution_count": 51,
      "outputs": []
    },
    {
      "cell_type": "markdown",
      "metadata": {
        "id": "i-7DoomPf5ak",
        "colab_type": "text"
      },
      "source": [
        "### Plot the Result"
      ]
    },
    {
      "cell_type": "code",
      "metadata": {
        "id": "x9EpeosteOkK",
        "colab_type": "code",
        "colab": {
          "base_uri": "https://localhost:8080/",
          "height": 500
        },
        "outputId": "0df79df5-6d18-4fa6-ac7d-e78d57dd0381"
      },
      "source": [
        "plt.style.use(\"fivethirtyeight\")\n",
        "plt.figure(figsize = (15,7))\n",
        "plt.plot(predict)\n",
        "plt.plot(y)\n",
        "plt.title('Monthly Milk Production (in pounds)')\n",
        "plt.legend(['predicted', 'actual'])\n",
        "plt.xlabel(\"Moths Counts\")\n",
        "plt.ylabel(\"Milk Production in Pounds\")\n",
        "plt.show()"
      ],
      "execution_count": 56,
      "outputs": [
        {
          "output_type": "display_data",
          "data": {
            "image/png": "[encoded data removed]",
            "text/plain": [
              "<Figure size 1080x504 with 1 Axes>"
            ]
          },
          "metadata": {
            "tags": []
          }
        }
      ]
    }
  ]
}